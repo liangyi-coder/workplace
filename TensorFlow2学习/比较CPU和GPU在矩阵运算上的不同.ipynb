{
 "metadata": {
  "language_info": {
   "codemirror_mode": {
    "name": "ipython",
    "version": 3
   },
   "file_extension": ".py",
   "mimetype": "text/x-python",
   "name": "python",
   "nbconvert_exporter": "python",
   "pygments_lexer": "ipython3",
   "version": "3.6.13"
  },
  "orig_nbformat": 2,
  "kernelspec": {
   "name": "python3613jvsc74a57bd004ec051ae4b6de4caa85fff1145419125b9f654bedbf4d25524fd8efe58e477a",
   "display_name": "Python 3.6.13 64-bit ('tensorflow2.3.1': conda)"
  }
 },
 "nbformat": 4,
 "nbformat_minor": 2,
 "cells": [
  {
   "cell_type": "code",
   "execution_count": 1,
   "metadata": {},
   "outputs": [
    {
     "output_type": "stream",
     "name": "stdout",
     "text": [
      "/job:localhost/replica:0/task:0/device:CPU:0 /job:localhost/replica:0/task:0/device:CPU:0\n",
      "/job:localhost/replica:0/task:0/device:GPU:0 /job:localhost/replica:0/task:0/device:GPU:0\n",
      "warmup: 0.8765391 0.1742340000000001\n",
      "run time: 0.8884071 0.0004913000000001944\n"
     ]
    }
   ],
   "source": [
    "import tensorflow as tf \n",
    "import timeit\n",
    "with tf.device('/cpu:0'):\n",
    "    cpu_a = tf.random.normal([10000,1000])\n",
    "    cpu_b = tf.random.normal([1000,2000])\n",
    "    print(cpu_a.device, cpu_b.device)\n",
    "with tf.device('/gpu:0'):\n",
    "    gpu_a = tf.random.normal([10000,1000])\n",
    "    gpu_b = tf.random.normal([1000,2000])\n",
    "    print(gpu_a.device, gpu_b.device)\n",
    "def cpu_run():\n",
    "    with tf.device('/cpu:0'):\n",
    "        c = tf.matmul(cpu_a, cpu_b)\n",
    "    return c\n",
    "def gpu_run():\n",
    "    with tf.device('/gpu:0'):\n",
    "        c = tf.matmul(gpu_a, gpu_b)\n",
    "    return c\n",
    "\n",
    "#cpu启动设置还需要一些时间，所以warmup的时间并不能计算在内\n",
    "cpu_time = timeit.timeit(cpu_run, number=10)\n",
    "gpu_time = timeit.timeit(gpu_run, number=10)\n",
    "print('warmup:',cpu_time, gpu_time)\n",
    "#下面的run time 才是真正的计算时间\n",
    "cpu_time = timeit.timeit(cpu_run, number=10)\n",
    "gpu_time = timeit.timeit(gpu_run, number=10)\n",
    "print('run time:',cpu_time, gpu_time)"
   ]
  },
  {
   "cell_type": "code",
   "execution_count": null,
   "metadata": {},
   "outputs": [],
   "source": [
    " "
   ]
  }
 ]
}