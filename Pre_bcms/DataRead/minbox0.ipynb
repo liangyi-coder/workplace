{
 "metadata": {
  "language_info": {
   "codemirror_mode": {
    "name": "ipython",
    "version": 3
   },
   "file_extension": ".py",
   "mimetype": "text/x-python",
   "name": "python",
   "nbconvert_exporter": "python",
   "pygments_lexer": "ipython3",
   "version": "3.6.13"
  },
  "orig_nbformat": 4,
  "kernelspec": {
   "name": "python3",
   "display_name": "Python 3.6.13 64-bit ('tensorflow2.3.1': conda)"
  },
  "interpreter": {
   "hash": "04ec051ae4b6de4caa85fff1145419125b9f654bedbf4d25524fd8efe58e477a"
  }
 },
 "nbformat": 4,
 "nbformat_minor": 2,
 "cells": [
  {
   "cell_type": "code",
   "execution_count": 70,
   "metadata": {},
   "outputs": [],
   "source": [
    "#由于gii保存的都是值为0/1的ROI图片所以可以转换为png不受影响\n",
    "import nibabel as nib \n",
    "import matplotlib.pyplot as plt \n",
    "import numpy as np \n",
    "import os\n",
    "import pydicom"
   ]
  },
  {
   "cell_type": "code",
   "execution_count": 110,
   "metadata": {},
   "outputs": [
    {
     "output_type": "stream",
     "name": "stderr",
     "text": [
      "ipykernel_launcher:3: DeprecationWarning: get_data() is deprecated in favor of get_fdata(), which has a more predictable return type. To obtain get_data() behavior going forward, use numpy.asanyarray(img.dataobj).\n\n* deprecated from version: 3.0\n* Will raise <class 'nibabel.deprecator.ExpiredDeprecationError'> as of version: 5.0\n"
     ]
    }
   ],
   "source": [
    "#读取roi 和 dicom 信息为矩阵\n",
    "roi_path = \"F:\\GuiYiXray&MRI\\X_ray&MRI\\Her_2\\Jiang Yuan Xiang/1/1.nii.gz\"\n",
    "roi_data = nib.load(roi_path).get_data()"
   ]
  },
  {
   "cell_type": "code",
   "execution_count": 112,
   "metadata": {
    "tags": []
   },
   "outputs": [],
   "source": [
    "#读取dicom图像的信息\n",
    "dcm_path = \"F:\\GuiYiXray&MRI\\X_ray&MRI\\Her_2\\Jiang Yuan Xiang/1/\"\n",
    "#读取dcm_path下每一个dicom格式的文件名\n",
    "dirs = os.listdir(dcm_path)\n",
    "dcm_names = []\n",
    "i = 0\n",
    "#读取.DCM的文件名\n",
    "for file_name in dirs:\n",
    "    if os.path.splitext(file_name)[1] =='.DCM':\n",
    "        full_file_name = dcm_path + file_name \n",
    "        dcm_names.append(full_file_name)\n",
    "#读取.DCM图像\n",
    "dcms = []\n",
    "for dcm_name in dcm_names:\n",
    "    dcm = pydicom.dcmread(dcm_name).pixel_array\n",
    "    dcms.append(dcm)\n"
   ]
  },
  {
   "cell_type": "code",
   "execution_count": 113,
   "metadata": {},
   "outputs": [],
   "source": [
    "#将dicom原始图像和gii数组装换为numpy数组\n",
    "rois = np.array(roi_data, dtype=np.int)\n",
    "dcms = np.array(dcms, dtype=np.int)"
   ]
  },
  {
   "cell_type": "code",
   "execution_count": 114,
   "metadata": {},
   "outputs": [
    {
     "output_type": "stream",
     "name": "stdout",
     "text": [
      "(512, 512, 36) (36, 512, 512)\n"
     ]
    }
   ],
   "source": [
    "print(rois.shape, dcms.shape)"
   ]
  },
  {
   "cell_type": "code",
   "execution_count": 115,
   "metadata": {},
   "outputs": [],
   "source": [
    "#提取minbox0(即最小外接矩形)\n",
    "#先提取边框\n",
    "def get_minbox0(gii):\n",
    "    top_line = 0\n",
    "    bottom_line = top_line + 1\n",
    "    left_line = 0\n",
    "    right_line = left_line + 1\n",
    "    height, width = gii.shape \n",
    "    #寻找上下边界\n",
    "    for i in range(height-1):\n",
    "        if sum(gii[i,:]) == 0 and sum(gii[i+1,:]) > 0:\n",
    "            top_line = i + 1\n",
    "        if sum(gii[i,:]) > 0 and sum(gii[i+1,:]) == 0:\n",
    "            bottom_line = i\n",
    "    #寻找左右边界\n",
    "    for j in range(width-1):\n",
    "        if sum(gii[:,j]) == 0 and sum(gii[:,j+1]) > 0:\n",
    "            left_line = j + 1\n",
    "        if sum(gii[:,j]) > 0 and sum(gii[:,j+1]) == 0 :\n",
    "            right_line = j\n",
    "    return top_line, bottom_line, left_line, right_line \n",
    "\n",
    "\n",
    "                                                                                                                                                                                                                                                                                                                                                                                                                                                          "
   ]
  },
  {
   "cell_type": "code",
   "execution_count": 116,
   "metadata": {
    "tags": []
   },
   "outputs": [],
   "source": [
    "#将minbox0数组转化为png\n",
    "from PIL import Image\n",
    "n = rois.shape[2] #roi的数量\n",
    "save_path = \"F:\\研究课题——乳腺癌分子分型分类\\Data\\MRI_ROI\\min_box\\Her2\\Jiang Yuan Xiang/\"\n",
    "patient_name = 'Jiang Yuan Xiang'\n",
    "for i in range(n):\n",
    "    roi = np.transpose(rois[:,:,i])\n",
    "    dcm = dcms[i]\n",
    "    if np.max(roi) > 0:\n",
    "        top_line, bottom_line, left_line, right_line = get_minbox0(roi)\n",
    "        MINBOX0 = np.zeros([bottom_line - top_line + 1, right_line - left_line + 1])\n",
    "        for j in range(top_line, bottom_line + 1):\n",
    "            for k in range(left_line, right_line + 1):\n",
    "                MINBOX0[j-top_line, k-left_line] = dcm[j,k]\n",
    "        MINBOX0 = np.array(MINBOX0, dtype=np.int)\n",
    "        im = Image.fromarray(MINBOX0)\n",
    "        '''\n",
    "        if im.mode == 'F':\n",
    "            im = im.convert('L')\n",
    "        '''\n",
    "        im.save(save_path+patient_name+'-minbox0{}.png'.format(i))\n",
    "\n",
    "\n"
   ]
  },
  {
   "cell_type": "code",
   "execution_count": null,
   "metadata": {},
   "outputs": [],
   "source": []
  }
 ]
}