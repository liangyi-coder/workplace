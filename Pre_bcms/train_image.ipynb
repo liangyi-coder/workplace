{
 "metadata": {
  "language_info": {
   "codemirror_mode": {
    "name": "ipython",
    "version": 3
   },
   "file_extension": ".py",
   "mimetype": "text/x-python",
   "name": "python",
   "nbconvert_exporter": "python",
   "pygments_lexer": "ipython3",
   "version": "3.7.9"
  },
  "orig_nbformat": 2,
  "kernelspec": {
   "name": "python379jvsc74a57bd03110ea37ffd25c4a84d6943605b7c0ed3a62606047d22cee2356eefcf32f74cc",
   "display_name": "Python 3.7.9 64-bit ('tensorflow2.3.1': conda)"
  }
 },
 "nbformat": 4,
 "nbformat_minor": 2,
 "cells": [
  {
   "cell_type": "code",
   "execution_count": 1,
   "metadata": {},
   "outputs": [],
   "source": [
    "'''\n",
    "Function Description：使用现有的VGG16搭建一个神经网络以实现乳腺癌分子分型的分类\n",
    "'''\n",
    "import tensorflow as tf \n",
    "import os\n",
    "import numpy as np \n",
    "#加载训练数据\n",
    "#以下是train和test的图片集合\n",
    "train_data_dir = '/media/ly/liangyi/分子分型/X线MRI共有/MRI_minbox/train'\n",
    "validation_data_dir = '/media/ly/liangyi/分子分型/X线MRI共有/MRI_minbox/validation'\n",
    "Her2_train_data_dir = train_data_dir + '/Her_2/'\n",
    "luminal_A_train_data_dir = train_data_dir + '/luminal_A/'\n",
    "luminal_B_train_data_dir = train_data_dir + '/luminal_B/'\n",
    "TN_train_data_dir = train_data_dir + '/TN/'\n",
    "\n",
    "class_names = ['Her2', 'luminal_A', 'luminal_B', 'TN']"
   ]
  },
  {
   "cell_type": "code",
   "execution_count": 2,
   "metadata": {},
   "outputs": [
    {
     "output_type": "stream",
     "name": "stdout",
     "text": [
      "(583,)\n"
     ]
    }
   ],
   "source": [
    "#加载train训练集\n",
    "Her2_train_data_name = [Her2_train_data_dir + filename for filename in os.listdir(Her2_train_data_dir)]\n",
    "luminal_A_train_data_name = [luminal_A_train_data_dir + filename for filename in os.listdir(luminal_A_train_data_dir)]\n",
    "luminal_B_train_data_name = [luminal_B_train_data_dir + filename for filename in os.listdir(luminal_B_train_data_dir)]\n",
    "TN_train_data_name = [TN_train_data_dir + filename for filename in os.listdir(TN_train_data_dir)]\n",
    "train_data_name = Her2_train_data_name + luminal_A_train_data_name + luminal_B_train_data_name + TN_train_data_name\n",
    "\n",
    "train_data_labels = [0]* len(Her2_train_data_name) + [1]*len(luminal_A_train_data_name) + [2]*len(luminal_B_train_data_name) + [3] * len(TN_train_data_name)\n",
    "\n",
    "train_data_labels = np.array(train_data_labels)\n",
    "train_data_name = np.array(train_data_name)\n",
    "\n",
    "#train_data_name = tf.convert_to_tensor(train_data_name)\n",
    "#train_data_labels = tf.convert_to_tensor(train_data_labels, dtype=tf.int64)\n",
    "\n",
    "print(train_data_labels.shape)"
   ]
  },
  {
   "cell_type": "code",
   "execution_count": 3,
   "metadata": {},
   "outputs": [],
   "source": [
    "Her2_val_data_dir = validation_data_dir + '/Her_2/'\n",
    "luminal_A_val_data_dir = validation_data_dir + '/luminal_A/'\n",
    "luminal_B_val_data_dir = validation_data_dir + '/luminal_B/'\n",
    "TN_val_data_dir = validation_data_dir + '/TN/'\n",
    "\n",
    "Her2_val_data_name = [Her2_val_data_dir + filename for filename in os.listdir(Her2_val_data_dir)]\n",
    "luminal_A_val_data_name = [luminal_A_val_data_dir + filename for filename in os.listdir(luminal_A_val_data_dir)]\n",
    "luminal_B_val_data_name = [luminal_B_val_data_dir + filename for filename in os.listdir(luminal_B_val_data_dir)]\n",
    "TN_val_data_name = [TN_val_data_dir + filename for filename in os.listdir(TN_val_data_dir)]\n",
    "val_data_name = Her2_val_data_name + luminal_A_val_data_name + luminal_B_val_data_name + TN_val_data_name\n",
    "\n",
    "val_data_labels = [0] * len(Her2_val_data_name) + [1] * len(luminal_A_val_data_name) + [2] * len(luminal_B_val_data_name) + [3] * len(TN_val_data_name)\n",
    "\n",
    "val_data_name = np.array(val_data_name)\n",
    "val_data_labels = np.array(val_data_labels)\n",
    "\n",
    "#val_data_name = tf.convert_to_tensor(val_data_name)\n",
    "#val_data_labels = tf.convert_to_tensor(val_data_labels)"
   ]
  },
  {
   "cell_type": "code",
   "execution_count": 4,
   "metadata": {},
   "outputs": [
    {
     "output_type": "stream",
     "name": "stdout",
     "text": [
      "(250,) (250,)\n0\n"
     ]
    }
   ],
   "source": [
    "print(val_data_name.shape, val_data_labels.shape)\n",
    "print(val_data_labels[1])"
   ]
  },
  {
   "cell_type": "code",
   "execution_count": 5,
   "metadata": {},
   "outputs": [],
   "source": [
    "num_train_img = len(train_data_name)\n",
    "train_set = np.zeros([583, 28, 28, 3], dtype =np.float32)\n",
    "for i in range(num_train_img):\n",
    "    img = tf.keras.preprocessing.image.load_img(train_data_name[i], target_size=[28, 28])\n",
    "    train_set[i] = tf.keras.preprocessing.image.img_to_array(img)\n",
    "train_set = train_set/ 255.0\n"
   ]
  },
  {
   "cell_type": "code",
   "execution_count": 6,
   "metadata": {},
   "outputs": [
    {
     "output_type": "execute_result",
     "data": {
      "text/plain": [
       "<matplotlib.image.AxesImage at 0x7f403fa84dd0>"
      ]
     },
     "metadata": {},
     "execution_count": 6
    },
    {
     "output_type": "display_data",
     "data": {
      "text/plain": "<Figure size 432x288 with 1 Axes>",
      "image/svg+xml": "<?xml version=\"1.0\" encoding=\"utf-8\" standalone=\"no\"?>\n<!DOCTYPE svg PUBLIC \"-//W3C//DTD SVG 1.1//EN\"\n  \"http://www.w3.org/Graphics/SVG/1.1/DTD/svg11.dtd\">\n<!-- Created with matplotlib (https://matplotlib.org/) -->\n<svg height=\"248.518125pt\" version=\"1.1\" viewBox=\"0 0 251.565 248.518125\" width=\"251.565pt\" xmlns=\"http://www.w3.org/2000/svg\" xmlns:xlink=\"http://www.w3.org/1999/xlink\">\n <metadata>\n  <rdf:RDF xmlns:cc=\"http://creativecommons.org/ns#\" xmlns:dc=\"http://purl.org/dc/elements/1.1/\" xmlns:rdf=\"http://www.w3.org/1999/02/22-rdf-syntax-ns#\">\n   <cc:Work>\n    <dc:type rdf:resource=\"http://purl.org/dc/dcmitype/StillImage\"/>\n    <dc:date>2021-05-26T15:50:53.660952</dc:date>\n    <dc:format>image/svg+xml</dc:format>\n    <dc:creator>\n     <cc:Agent>\n      <dc:title>Matplotlib v3.3.4, https://matplotlib.org/</dc:title>\n     </cc:Agent>\n    </dc:creator>\n   </cc:Work>\n  </rdf:RDF>\n </metadata>\n <defs>\n  <style type=\"text/css\">*{stroke-linecap:butt;stroke-linejoin:round;}</style>\n </defs>\n <g id=\"figure_1\">\n  <g id=\"patch_1\">\n   <path d=\"M 0 248.518125 \nL 251.565 248.518125 \nL 251.565 0 \nL 0 0 \nz\n\" style=\"fill:none;\"/>\n  </g>\n  <g id=\"axes_1\">\n   <g id=\"patch_2\">\n    <path d=\"M 26.925 224.64 \nL 244.365 224.64 \nL 244.365 7.2 \nL 26.925 7.2 \nz\n\" style=\"fill:#ffffff;\"/>\n   </g>\n   <g clip-path=\"url(#pb29961c8c3)\">\n    <image height=\"218\" id=\"imageb87ffbac5c\" transform=\"scale(1 -1)translate(0 -218)\" width=\"218\" x=\"26.925\" xlink:href=\"data:image/png;base64,\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\" y=\"-6.64\"/>\n   </g>\n   <g id=\"matplotlib.axis_1\">\n    <g id=\"xtick_1\">\n     <g id=\"line2d_1\">\n      <defs>\n       <path d=\"M 0 0 \nL 0 3.5 \n\" id=\"m8a9f4db88d\" style=\"stroke:#000000;stroke-width:0.8;\"/>\n      </defs>\n      <g>\n       <use style=\"stroke:#000000;stroke-width:0.8;\" x=\"30.807857\" xlink:href=\"#m8a9f4db88d\" y=\"224.64\"/>\n      </g>\n     </g>\n     <g id=\"text_1\">\n      <!-- 0 -->\n      <g transform=\"translate(27.626607 239.238437)scale(0.1 -0.1)\">\n       <defs>\n        <path d=\"M 31.78125 66.40625 \nQ 24.171875 66.40625 20.328125 58.90625 \nQ 16.5 51.421875 16.5 36.375 \nQ 16.5 21.390625 20.328125 13.890625 \nQ 24.171875 6.390625 31.78125 6.390625 \nQ 39.453125 6.390625 43.28125 13.890625 \nQ 47.125 21.390625 47.125 36.375 \nQ 47.125 51.421875 43.28125 58.90625 \nQ 39.453125 66.40625 31.78125 66.40625 \nz\nM 31.78125 74.21875 \nQ 44.046875 74.21875 50.515625 64.515625 \nQ 56.984375 54.828125 56.984375 36.375 \nQ 56.984375 17.96875 50.515625 8.265625 \nQ 44.046875 -1.421875 31.78125 -1.421875 \nQ 19.53125 -1.421875 13.0625 8.265625 \nQ 6.59375 17.96875 6.59375 36.375 \nQ 6.59375 54.828125 13.0625 64.515625 \nQ 19.53125 74.21875 31.78125 74.21875 \nz\n\" id=\"DejaVuSans-48\"/>\n       </defs>\n       <use xlink:href=\"#DejaVuSans-48\"/>\n      </g>\n     </g>\n    </g>\n    <g id=\"xtick_2\">\n     <g id=\"line2d_2\">\n      <g>\n       <use style=\"stroke:#000000;stroke-width:0.8;\" x=\"69.636429\" xlink:href=\"#m8a9f4db88d\" y=\"224.64\"/>\n      </g>\n     </g>\n     <g id=\"text_2\">\n      <!-- 5 -->\n      <g transform=\"translate(66.455179 239.238437)scale(0.1 -0.1)\">\n       <defs>\n        <path d=\"M 10.796875 72.90625 \nL 49.515625 72.90625 \nL 49.515625 64.59375 \nL 19.828125 64.59375 \nL 19.828125 46.734375 \nQ 21.96875 47.46875 24.109375 47.828125 \nQ 26.265625 48.1875 28.421875 48.1875 \nQ 40.625 48.1875 47.75 41.5 \nQ 54.890625 34.8125 54.890625 23.390625 \nQ 54.890625 11.625 47.5625 5.09375 \nQ 40.234375 -1.421875 26.90625 -1.421875 \nQ 22.3125 -1.421875 17.546875 -0.640625 \nQ 12.796875 0.140625 7.71875 1.703125 \nL 7.71875 11.625 \nQ 12.109375 9.234375 16.796875 8.0625 \nQ 21.484375 6.890625 26.703125 6.890625 \nQ 35.15625 6.890625 40.078125 11.328125 \nQ 45.015625 15.765625 45.015625 23.390625 \nQ 45.015625 31 40.078125 35.4375 \nQ 35.15625 39.890625 26.703125 39.890625 \nQ 22.75 39.890625 18.8125 39.015625 \nQ 14.890625 38.140625 10.796875 36.28125 \nz\n\" id=\"DejaVuSans-53\"/>\n       </defs>\n       <use xlink:href=\"#DejaVuSans-53\"/>\n      </g>\n     </g>\n    </g>\n    <g id=\"xtick_3\">\n     <g id=\"line2d_3\">\n      <g>\n       <use style=\"stroke:#000000;stroke-width:0.8;\" x=\"108.465\" xlink:href=\"#m8a9f4db88d\" y=\"224.64\"/>\n      </g>\n     </g>\n     <g id=\"text_3\">\n      <!-- 10 -->\n      <g transform=\"translate(102.1025 239.238437)scale(0.1 -0.1)\">\n       <defs>\n        <path d=\"M 12.40625 8.296875 \nL 28.515625 8.296875 \nL 28.515625 63.921875 \nL 10.984375 60.40625 \nL 10.984375 69.390625 \nL 28.421875 72.90625 \nL 38.28125 72.90625 \nL 38.28125 8.296875 \nL 54.390625 8.296875 \nL 54.390625 0 \nL 12.40625 0 \nz\n\" id=\"DejaVuSans-49\"/>\n       </defs>\n       <use xlink:href=\"#DejaVuSans-49\"/>\n       <use x=\"63.623047\" xlink:href=\"#DejaVuSans-48\"/>\n      </g>\n     </g>\n    </g>\n    <g id=\"xtick_4\">\n     <g id=\"line2d_4\">\n      <g>\n       <use style=\"stroke:#000000;stroke-width:0.8;\" x=\"147.293571\" xlink:href=\"#m8a9f4db88d\" y=\"224.64\"/>\n      </g>\n     </g>\n     <g id=\"text_4\">\n      <!-- 15 -->\n      <g transform=\"translate(140.931071 239.238437)scale(0.1 -0.1)\">\n       <use xlink:href=\"#DejaVuSans-49\"/>\n       <use x=\"63.623047\" xlink:href=\"#DejaVuSans-53\"/>\n      </g>\n     </g>\n    </g>\n    <g id=\"xtick_5\">\n     <g id=\"line2d_5\">\n      <g>\n       <use style=\"stroke:#000000;stroke-width:0.8;\" x=\"186.122143\" xlink:href=\"#m8a9f4db88d\" y=\"224.64\"/>\n      </g>\n     </g>\n     <g id=\"text_5\">\n      <!-- 20 -->\n      <g transform=\"translate(179.759643 239.238437)scale(0.1 -0.1)\">\n       <defs>\n        <path d=\"M 19.1875 8.296875 \nL 53.609375 8.296875 \nL 53.609375 0 \nL 7.328125 0 \nL 7.328125 8.296875 \nQ 12.9375 14.109375 22.625 23.890625 \nQ 32.328125 33.6875 34.8125 36.53125 \nQ 39.546875 41.84375 41.421875 45.53125 \nQ 43.3125 49.21875 43.3125 52.78125 \nQ 43.3125 58.59375 39.234375 62.25 \nQ 35.15625 65.921875 28.609375 65.921875 \nQ 23.96875 65.921875 18.8125 64.3125 \nQ 13.671875 62.703125 7.8125 59.421875 \nL 7.8125 69.390625 \nQ 13.765625 71.78125 18.9375 73 \nQ 24.125 74.21875 28.421875 74.21875 \nQ 39.75 74.21875 46.484375 68.546875 \nQ 53.21875 62.890625 53.21875 53.421875 \nQ 53.21875 48.921875 51.53125 44.890625 \nQ 49.859375 40.875 45.40625 35.40625 \nQ 44.1875 33.984375 37.640625 27.21875 \nQ 31.109375 20.453125 19.1875 8.296875 \nz\n\" id=\"DejaVuSans-50\"/>\n       </defs>\n       <use xlink:href=\"#DejaVuSans-50\"/>\n       <use x=\"63.623047\" xlink:href=\"#DejaVuSans-48\"/>\n      </g>\n     </g>\n    </g>\n    <g id=\"xtick_6\">\n     <g id=\"line2d_6\">\n      <g>\n       <use style=\"stroke:#000000;stroke-width:0.8;\" x=\"224.950714\" xlink:href=\"#m8a9f4db88d\" y=\"224.64\"/>\n      </g>\n     </g>\n     <g id=\"text_6\">\n      <!-- 25 -->\n      <g transform=\"translate(218.588214 239.238437)scale(0.1 -0.1)\">\n       <use xlink:href=\"#DejaVuSans-50\"/>\n       <use x=\"63.623047\" xlink:href=\"#DejaVuSans-53\"/>\n      </g>\n     </g>\n    </g>\n   </g>\n   <g id=\"matplotlib.axis_2\">\n    <g id=\"ytick_1\">\n     <g id=\"line2d_7\">\n      <defs>\n       <path d=\"M 0 0 \nL -3.5 0 \n\" id=\"m6276e46585\" style=\"stroke:#000000;stroke-width:0.8;\"/>\n      </defs>\n      <g>\n       <use style=\"stroke:#000000;stroke-width:0.8;\" x=\"26.925\" xlink:href=\"#m6276e46585\" y=\"11.082857\"/>\n      </g>\n     </g>\n     <g id=\"text_7\">\n      <!-- 0 -->\n      <g transform=\"translate(13.5625 14.882076)scale(0.1 -0.1)\">\n       <use xlink:href=\"#DejaVuSans-48\"/>\n      </g>\n     </g>\n    </g>\n    <g id=\"ytick_2\">\n     <g id=\"line2d_8\">\n      <g>\n       <use style=\"stroke:#000000;stroke-width:0.8;\" x=\"26.925\" xlink:href=\"#m6276e46585\" y=\"49.911429\"/>\n      </g>\n     </g>\n     <g id=\"text_8\">\n      <!-- 5 -->\n      <g transform=\"translate(13.5625 53.710647)scale(0.1 -0.1)\">\n       <use xlink:href=\"#DejaVuSans-53\"/>\n      </g>\n     </g>\n    </g>\n    <g id=\"ytick_3\">\n     <g id=\"line2d_9\">\n      <g>\n       <use style=\"stroke:#000000;stroke-width:0.8;\" x=\"26.925\" xlink:href=\"#m6276e46585\" y=\"88.74\"/>\n      </g>\n     </g>\n     <g id=\"text_9\">\n      <!-- 10 -->\n      <g transform=\"translate(7.2 92.539219)scale(0.1 -0.1)\">\n       <use xlink:href=\"#DejaVuSans-49\"/>\n       <use x=\"63.623047\" xlink:href=\"#DejaVuSans-48\"/>\n      </g>\n     </g>\n    </g>\n    <g id=\"ytick_4\">\n     <g id=\"line2d_10\">\n      <g>\n       <use style=\"stroke:#000000;stroke-width:0.8;\" x=\"26.925\" xlink:href=\"#m6276e46585\" y=\"127.568571\"/>\n      </g>\n     </g>\n     <g id=\"text_10\">\n      <!-- 15 -->\n      <g transform=\"translate(7.2 131.36779)scale(0.1 -0.1)\">\n       <use xlink:href=\"#DejaVuSans-49\"/>\n       <use x=\"63.623047\" xlink:href=\"#DejaVuSans-53\"/>\n      </g>\n     </g>\n    </g>\n    <g id=\"ytick_5\">\n     <g id=\"line2d_11\">\n      <g>\n       <use style=\"stroke:#000000;stroke-width:0.8;\" x=\"26.925\" xlink:href=\"#m6276e46585\" y=\"166.397143\"/>\n      </g>\n     </g>\n     <g id=\"text_11\">\n      <!-- 20 -->\n      <g transform=\"translate(7.2 170.196362)scale(0.1 -0.1)\">\n       <use xlink:href=\"#DejaVuSans-50\"/>\n       <use x=\"63.623047\" xlink:href=\"#DejaVuSans-48\"/>\n      </g>\n     </g>\n    </g>\n    <g id=\"ytick_6\">\n     <g id=\"line2d_12\">\n      <g>\n       <use style=\"stroke:#000000;stroke-width:0.8;\" x=\"26.925\" xlink:href=\"#m6276e46585\" y=\"205.225714\"/>\n      </g>\n     </g>\n     <g id=\"text_12\">\n      <!-- 25 -->\n      <g transform=\"translate(7.2 209.024933)scale(0.1 -0.1)\">\n       <use xlink:href=\"#DejaVuSans-50\"/>\n       <use x=\"63.623047\" xlink:href=\"#DejaVuSans-53\"/>\n      </g>\n     </g>\n    </g>\n   </g>\n   <g id=\"patch_3\">\n    <path d=\"M 26.925 224.64 \nL 26.925 7.2 \n\" style=\"fill:none;stroke:#000000;stroke-linecap:square;stroke-linejoin:miter;stroke-width:0.8;\"/>\n   </g>\n   <g id=\"patch_4\">\n    <path d=\"M 244.365 224.64 \nL 244.365 7.2 \n\" style=\"fill:none;stroke:#000000;stroke-linecap:square;stroke-linejoin:miter;stroke-width:0.8;\"/>\n   </g>\n   <g id=\"patch_5\">\n    <path d=\"M 26.925 224.64 \nL 244.365 224.64 \n\" style=\"fill:none;stroke:#000000;stroke-linecap:square;stroke-linejoin:miter;stroke-width:0.8;\"/>\n   </g>\n   <g id=\"patch_6\">\n    <path d=\"M 26.925 7.2 \nL 244.365 7.2 \n\" style=\"fill:none;stroke:#000000;stroke-linecap:square;stroke-linejoin:miter;stroke-width:0.8;\"/>\n   </g>\n  </g>\n </g>\n <defs>\n  <clipPath id=\"pb29961c8c3\">\n   <rect height=\"217.44\" width=\"217.44\" x=\"26.925\" y=\"7.2\"/>\n  </clipPath>\n </defs>\n</svg>\n",
      "image/png": "[encoded data removed]"
     },
     "metadata": {
      "needs_background": "light"
     }
    }
   ],
   "source": [
    "import matplotlib.pyplot as plt \n",
    "plt.figure()\n",
    "plt.imshow(train_set[1])"
   ]
  },
  {
   "cell_type": "code",
   "execution_count": 7,
   "metadata": {},
   "outputs": [],
   "source": [
    "model = tf.keras.Sequential(\n",
    "[\n",
    "    tf.keras.layers.Flatten(input_shape=[28, 28, 3]),\n",
    "    tf.keras.layers.Dense(128, activation=tf.nn.relu),\n",
    "    tf.keras.layers.Dense(4, activation=tf.nn.softmax)\n",
    "])\n"
   ]
  },
  {
   "cell_type": "code",
   "execution_count": 8,
   "metadata": {},
   "outputs": [],
   "source": [
    "model.compile(\n",
    "    optimizer=tf.keras.optimizers.Adam(learning_rate = 0.001),\n",
    "    loss = tf.keras.losses.sparse_categorical_crossentropy,\n",
    "    metrics=[tf.keras.metrics.sparse_categorical_accuracy]\n",
    ")"
   ]
  },
  {
   "cell_type": "code",
   "execution_count": 9,
   "metadata": {},
   "outputs": [
    {
     "output_type": "stream",
     "name": "stdout",
     "text": [
      "Model: \"sequential\"\n_________________________________________________________________\nLayer (type)                 Output Shape              Param #   \n=================================================================\nflatten (Flatten)            (None, 2352)              0         \n_________________________________________________________________\ndense (Dense)                (None, 128)               301184    \n_________________________________________________________________\ndense_1 (Dense)              (None, 4)                 516       \n=================================================================\nTotal params: 301,700\nTrainable params: 301,700\nNon-trainable params: 0\n_________________________________________________________________\n"
     ]
    }
   ],
   "source": [
    "model.summary()"
   ]
  },
  {
   "cell_type": "code",
   "execution_count": 10,
   "metadata": {},
   "outputs": [
    {
     "output_type": "stream",
     "name": "stdout",
     "text": [
      "Epoch 1/5\n",
      "19/19 [==============================] - 0s 1ms/step - loss: 1.6569 - sparse_categorical_accuracy: 0.2830\n",
      "Epoch 2/5\n",
      "19/19 [==============================] - 0s 1ms/step - loss: 1.3321 - sparse_categorical_accuracy: 0.3756\n",
      "Epoch 3/5\n",
      "19/19 [==============================] - 0s 1ms/step - loss: 1.3303 - sparse_categorical_accuracy: 0.3894\n",
      "Epoch 4/5\n",
      "19/19 [==============================] - 0s 1ms/step - loss: 1.2638 - sparse_categorical_accuracy: 0.4443\n",
      "Epoch 5/5\n",
      "19/19 [==============================] - 0s 1ms/step - loss: 1.2452 - sparse_categorical_accuracy: 0.4185\n"
     ]
    },
    {
     "output_type": "execute_result",
     "data": {
      "text/plain": [
       "<tensorflow.python.keras.callbacks.History at 0x7f3fb464ee10>"
      ]
     },
     "metadata": {},
     "execution_count": 10
    }
   ],
   "source": [
    "model.fit(train_set, train_data_labels, epochs=5)"
   ]
  },
  {
   "cell_type": "code",
   "execution_count": null,
   "metadata": {},
   "outputs": [],
   "source": []
  }
 ]
}