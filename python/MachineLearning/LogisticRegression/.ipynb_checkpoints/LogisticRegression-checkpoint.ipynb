{
 "cells": [
  {
   "cell_type": "code",
   "execution_count": 26,
   "id": "0a1eaba3",
   "metadata": {},
   "outputs": [
    {
     "name": "stdout",
     "output_type": "stream",
     "text": [
      "-0.7492118145489745 2.87500124247261\n"
     ]
    }
   ],
   "source": [
    "'''\n",
    "函数说明：梯度下降算法测试函数\n",
    "求公式：y(x) = 2*x^2 + 3*x + 4的最小值点\n",
    "'''\n",
    "def Gradient_Descent_Algorithm():\n",
    "    def f_prime(x_old):#求f(x)的导数\n",
    "        return 4*x_old+3\n",
    "    \n",
    "    x_old = 0 #给出梯度下降的初始值\n",
    "    y_old = 4 #梯度下降的初始值\n",
    "    alpha = 0.01 #学习率\n",
    "    threshold = 0.0000001 #阀值\n",
    "    x_new = x_old - alpha*f_prime(x_old)\n",
    "    y_new = 2*x_new**2 + 3*x_new + 4\n",
    "    while(abs(y_new-y_old )> threshold):\n",
    "        x_old = x_new\n",
    "        x_new = x_old - alpha*f_prime(x_old)\n",
    "        y_old = y_new\n",
    "        y_new = 2*x_new**2 + 3*x_new + 4\n",
    "    print(x_old,y_old)\n",
    "\n",
    "if __name__== '__main__':\n",
    "    Gradient_Descent_Algorithm()\n",
    "    "
   ]
  },
  {
   "cell_type": "code",
   "execution_count": 40,
   "id": "546db3be",
   "metadata": {},
   "outputs": [],
   "source": [
    "import numpy as np\n",
    "import matplotlib.pyplot as plt\n",
    "\n",
    "'''\n",
    "函数说明:加载数据\n",
    "'''\n",
    "def loadDataSet():\n",
    "    dataMat = [] #创建数据列表\n",
    "    labelMat = [] #创建标签列表\n",
    "    fr = open('testSet.txt') #打开数据文件\n",
    "    for line in fr.readlines():\n",
    "        lineArr = line.strip().split() #去除回车，放入lineArr\n",
    "        dataMat.append([1.0,float(lineArr[0]),float(lineArr[1])])\n",
    "        labelMat.append(int(lineArr[2]))\n",
    "    fr.close()\n",
    "    return dataMat, labelMat\n",
    "        "
   ]
  },
  {
   "cell_type": "code",
   "execution_count": 41,
   "id": "124ea7aa",
   "metadata": {},
   "outputs": [
    {
     "data": {
      "image/png": "[encoded data removed]",
      "text/plain": [
       "<Figure size 432x288 with 1 Axes>"
      ]
     },
     "metadata": {
      "needs_background": "light"
     },
     "output_type": "display_data"
    }
   ],
   "source": [
    "'''\n",
    "函数说明：绘制数据集\n",
    "'''\n",
    "def plotDataSet():\n",
    "    dataMat, labelMat = loadDataSet()\n",
    "    dataArr = np.array(dataMat)\n",
    "    n = np.shape(dataMat)[0]\n",
    "    xcord1 = []; ycord1 = []\n",
    "    xcord2 = []; ycord2 = []\n",
    "    for i in range(n):\n",
    "        if labelMat[i] == 0:\n",
    "            xcord1.append(dataArr[i,1]); ycord1.append(dataArr[i,2])\n",
    "        else:\n",
    "            xcord2.append(dataArr[i,1]); ycord2.append(dataArr[i,2])\n",
    "    fig = plt.figure()\n",
    "    ax = fig.add_subplot(111)\n",
    "    ax.scatter(xcord1,ycord1,s = 20,c = 'red',marker = 's',alpha = .5)\n",
    "    ax.scatter(xcord2,ycord2,s = 20,c = 'green',alpha = .5)\n",
    "    plt.title('DataSet')\n",
    "    plt.xlabel('x'); plt.ylabel('y')\n",
    "    plt.show()\n",
    "\n",
    "if __name__ == '__main__':\n",
    "    plotDataSet()\n",
    "    \n"
   ]
  },
  {
   "cell_type": "markdown",
   "id": "89016214",
   "metadata": {},
   "source": [
    "# "
   ]
  }
 ],
 "metadata": {
  "kernelspec": {
   "display_name": "Python 3",
   "language": "python",
   "name": "python3"
  },
  "language_info": {
   "codemirror_mode": {
    "name": "ipython",
    "version": 3
   },
   "file_extension": ".py",
   "mimetype": "text/x-python",
   "name": "python",
   "nbconvert_exporter": "python",
   "pygments_lexer": "ipython3",
   "version": "3.8.5"
  }
 },
 "nbformat": 4,
 "nbformat_minor": 5
}
