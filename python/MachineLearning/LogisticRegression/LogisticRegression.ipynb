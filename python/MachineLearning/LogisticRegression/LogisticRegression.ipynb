{
 "cells": [
  {
   "cell_type": "code",
   "execution_count": 26,
   "id": "3699f748",
   "metadata": {},
   "outputs": [
    {
     "name": "stdout",
     "output_type": "stream",
     "text": [
      "-0.7492118145489745 2.87500124247261\n"
     ]
    }
   ],
   "source": [
    "'''\n",
    "函数说明：梯度下降算法测试函数\n",
    "求公式：y(x) = 2*x^2 + 3*x + 4的最小值点\n",
    "'''\n",
    "def Gradient_Descent_Algorithm():\n",
    "    def f_prime(x_old):#求f(x)的导数\n",
    "        return 4*x_old+3\n",
    "    \n",
    "    x_old = 0 #给出梯度下降的初始值\n",
    "    y_old = 4 #梯度下降的初始值\n",
    "    alpha = 0.01 #学习率\n",
    "    threshold = 0.0000001 #阀值\n",
    "    x_new = x_old - alpha*f_prime(x_old)\n",
    "    y_new = 2*x_new**2 + 3*x_new + 4\n",
    "    while(abs(y_new-y_old )> threshold):\n",
    "        x_old = x_new\n",
    "        x_new = x_old - alpha*f_prime(x_old)\n",
    "        y_old = y_new\n",
    "        y_new = 2*x_new**2 + 3*x_new + 4\n",
    "    print(x_old,y_old)\n",
    "\n",
    "if __name__== '__main__':\n",
    "    Gradient_Descent_Algorithm()\n",
    "    "
   ]
  },
  {
   "cell_type": "code",
   "execution_count": 2,
   "id": "598cfda3",
   "metadata": {},
   "outputs": [],
   "source": [
    "import numpy as np\n",
    "import matplotlib.pyplot as plt\n",
    "\n",
    "'''\n",
    "函数说明:加载数据\n",
    "'''\n",
    "def loadDataSet():\n",
    "    dataMat = [] #创建数据列表\n",
    "    labelMat = [] #创建标签列表\n",
    "    fr = open('testSet.txt') #打开数据文件\n",
    "    for line in fr.readlines():\n",
    "        lineArr = line.strip().split() #去除回车，放入lineArr\n",
    "        dataMat.append([1.0,float(lineArr[0]),float(lineArr[1])])\n",
    "        labelMat.append(int(lineArr[2]))\n",
    "    fr.close()\n",
    "    return dataMat, labelMat\n",
    "        "
   ]
  },
  {
   "cell_type": "code",
   "execution_count": 44,
   "id": "4cbde695",
   "metadata": {},
   "outputs": [
    {
     "data": {
      "image/png": "[encoded data removed]",
      "text/plain": [
       "<Figure size 432x288 with 1 Axes>"
      ]
     },
     "metadata": {
      "needs_background": "light"
     },
     "output_type": "display_data"
    }
   ],
   "source": [
    "'''\n",
    "函数说明：绘制数据集\n",
    "'''\n",
    "def plotDataSet():\n",
    "    dataMat, labelMat = loadDataSet()\n",
    "    dataArr = np.array(dataMat)\n",
    "    n = np.shape(dataMat)[0]\n",
    "    xcord1 = []; ycord1 = []\n",
    "    xcord2 = []; ycord2 = []\n",
    "    for i in range(n):\n",
    "        if labelMat[i] == 1:\n",
    "            xcord1.append(dataArr[i,1]); ycord1.append(dataArr[i,2])\n",
    "        else:\n",
    "            xcord2.append(dataArr[i,1]); ycord2.append(dataArr[i,2])\n",
    "    fig = plt.figure()\n",
    "    ax = fig.add_subplot(111)\n",
    "    ax.scatter(xcord1,ycord1,s = 20,c = 'red',marker = 's',alpha = .5)\n",
    "    ax.scatter(xcord2,ycord2,s = 20,c = 'green',alpha = .5)\n",
    "    plt.title('DataSet')\n",
    "    plt.xlabel('x'); plt.ylabel('y')\n",
    "    plt.show()\n",
    "\n",
    "if __name__ == '__main__':\n",
    "    plotDataSet()\n",
    "    \n"
   ]
  },
  {
   "cell_type": "markdown",
   "id": "312b3b9b",
   "metadata": {},
   "source": []
  },
  {
   "cell_type": "code",
   "execution_count": 3,
   "id": "eab1ff45",
   "metadata": {},
   "outputs": [
    {
     "name": "stdout",
     "output_type": "stream",
     "text": [
      "<bound method LogisticRegression.fit of LogisticRegression(C=1000.0, random_state=0)>\n"
     ]
    }
   ],
   "source": [
    "from sklearn.linear_model import LogisticRegression\n",
    "lr = LogisticRegression(C=1000.0, random_state=0)\n",
    "X_train_std,y_train = loadDataSet()\n",
    "lr.fit(X_train_std, y_train)\n",
    "print(lr.fit)"
   ]
  },
  {
   "cell_type": "code",
   "execution_count": 11,
   "id": "c656ddfe",
   "metadata": {},
   "outputs": [
    {
     "data": {
      "text/plain": [
       "array([[8.34490662e-07, 9.99999166e-01],\n",
       "       [1.76471750e-06, 9.99998235e-01]])"
      ]
     },
     "execution_count": 11,
     "metadata": {},
     "output_type": "execute_result"
    }
   ],
   "source": [
    "lr.predict_proba([[1,1,1],[2,2,2]])"
   ]
  },
  {
   "cell_type": "code",
   "execution_count": 15,
   "id": "76aab152",
   "metadata": {},
   "outputs": [
    {
     "name": "stderr",
     "output_type": "stream",
     "text": [
      "C:\\Users\\liangyi\\anaconda3\\lib\\site-packages\\matplotlib\\backends\\backend_agg.py:214: RuntimeWarning: Glyph 26368 missing from current font.\n",
      "  font.set_text(s, 0.0, flags=flags)\n",
      "C:\\Users\\liangyi\\anaconda3\\lib\\site-packages\\matplotlib\\backends\\backend_agg.py:214: RuntimeWarning: Glyph 20248 missing from current font.\n",
      "  font.set_text(s, 0.0, flags=flags)\n",
      "C:\\Users\\liangyi\\anaconda3\\lib\\site-packages\\matplotlib\\backends\\backend_agg.py:214: RuntimeWarning: Glyph 20998 missing from current font.\n",
      "  font.set_text(s, 0.0, flags=flags)\n",
      "C:\\Users\\liangyi\\anaconda3\\lib\\site-packages\\matplotlib\\backends\\backend_agg.py:214: RuntimeWarning: Glyph 21106 missing from current font.\n",
      "  font.set_text(s, 0.0, flags=flags)\n",
      "C:\\Users\\liangyi\\anaconda3\\lib\\site-packages\\matplotlib\\backends\\backend_agg.py:214: RuntimeWarning: Glyph 32447 missing from current font.\n",
      "  font.set_text(s, 0.0, flags=flags)\n",
      "C:\\Users\\liangyi\\anaconda3\\lib\\site-packages\\matplotlib\\backends\\backend_agg.py:183: RuntimeWarning: Glyph 26368 missing from current font.\n",
      "  font.set_text(s, 0, flags=flags)\n",
      "C:\\Users\\liangyi\\anaconda3\\lib\\site-packages\\matplotlib\\backends\\backend_agg.py:183: RuntimeWarning: Glyph 20248 missing from current font.\n",
      "  font.set_text(s, 0, flags=flags)\n",
      "C:\\Users\\liangyi\\anaconda3\\lib\\site-packages\\matplotlib\\backends\\backend_agg.py:183: RuntimeWarning: Glyph 20998 missing from current font.\n",
      "  font.set_text(s, 0, flags=flags)\n",
      "C:\\Users\\liangyi\\anaconda3\\lib\\site-packages\\matplotlib\\backends\\backend_agg.py:183: RuntimeWarning: Glyph 21106 missing from current font.\n",
      "  font.set_text(s, 0, flags=flags)\n",
      "C:\\Users\\liangyi\\anaconda3\\lib\\site-packages\\matplotlib\\backends\\backend_agg.py:183: RuntimeWarning: Glyph 32447 missing from current font.\n",
      "  font.set_text(s, 0, flags=flags)\n"
     ]
    },
    {
     "data": {
      "image/png": "[encoded data removed]",
      "text/plain": [
       "<Figure size 432x288 with 1 Axes>"
      ]
     },
     "metadata": {
      "needs_background": "light"
     },
     "output_type": "display_data"
    }
   ],
   "source": [
    "# -*- coding: utf-8 -*-\n",
    "\"\"\"\n",
    "Created on Mon Apr 26 21:59:07 2021\n",
    "\n",
    "@author: liangyi\n",
    "\"\"\"\n",
    "import numpy as np\n",
    "import math\n",
    "import matplotlib.pyplot as plt\n",
    "\n",
    "'''\n",
    "函数说明:引入数据\n",
    "'''\n",
    "def loadDataSet():\n",
    "    dataMat = [] #创建数据列表\n",
    "    labelMat = [] #创建标签列表\n",
    "    fr = open('testSet.txt') #打开数据文件\n",
    "    for line in fr.readlines():\n",
    "        lineArr = line.strip().split() #去除回车，放入lineArr\n",
    "        dataMat.append([1.0,float(lineArr[0]),float(lineArr[1])])\n",
    "        labelMat.append(int(lineArr[2]))\n",
    "    fr.close()\n",
    "    return dataMat, labelMat\n",
    "\n",
    "\n",
    "\n",
    "'''\n",
    "函数说明：LogisticRegression函数\n",
    "'''\n",
    "def h_f(THETA,X):\n",
    "    return 1/(1+math.exp(-(THETA[0]+THETA[1]*X[1]+THETA[2]*X[2])))\n",
    "\n",
    "'''\n",
    "函数说明：cost函数\n",
    "'''\n",
    "def cost_f(THETA,X,y):\n",
    "    return -y*math.log(h_f(THETA,X),math.e)-(1-y)*math.log(1-h_f(THETA,X),math.e)\n",
    "\n",
    "'''\n",
    "函数说明：代价函数\n",
    "'''\n",
    "def J_f(THETA,dataMat,labelMat,m):\n",
    "    sm = 0\n",
    "    for i in range(m):\n",
    "        sm += cost_f(THETA,dataMat[i],labelMat[i])\n",
    "    sm = sm/m\n",
    "    return sm\n",
    "\n",
    "def theta_f(theta_j,THETA,dataMat,labelMat,m,alpha,j):#theta_j代表第j个参(从0开始)\n",
    "    sm = 0\n",
    "    for i in range(m):\n",
    "        sm += dataMat[i][j] * (h_f(THETA,dataMat[i])-labelMat[i])\n",
    "    sm = alpha * sm\n",
    "    return theta_j - sm\n",
    "\n",
    "'''\n",
    "函数说明：逻辑回归的梯度下降函数\n",
    "'''\n",
    "def Gradient_Descent():\n",
    "    dataMat, labelMat = loadDataSet()\n",
    "    dataArr = np.array(dataMat)\n",
    "    m = np.shape(dataMat)[0] #样本数量\n",
    "    \n",
    "    theta0 = 0 #为参数设置初值\n",
    "    theta1 = 0\n",
    "    theta2 = 1\n",
    "    cost_old = J_f([theta0,theta1,theta2],dataMat,labelMat,m)\n",
    "    #print(theta0,theta1,theta2,cost_old)\n",
    "    threshold = 0.000001 #设置阀值\n",
    "    alpha = 0.01 #设置步长（学习率）\n",
    "    \n",
    "    temp0 = theta_f(theta0,[theta0,theta1,theta2],dataMat,labelMat,m,alpha,0)\n",
    "    temp1 = theta_f(theta1,[theta0,theta1,theta2],dataMat,labelMat,m,alpha,1)\n",
    "    temp2 = theta_f(theta2,[theta0,theta1,theta2],dataMat,labelMat,m,alpha,2)\n",
    "    cost_new = J_f([temp0,temp1,temp2],dataMat,labelMat,m)\n",
    "    #print(temp0,temp1,temp2,cost_new)\n",
    "    while abs(cost_old-cost_new)>threshold :\n",
    "        theta0 = temp0\n",
    "        theta1 = temp1\n",
    "        theta2 = temp2\n",
    "        cost_old = cost_new\n",
    "        \n",
    "        temp0 = theta_f(theta0,[theta0,theta1,theta2],dataMat,labelMat,m,alpha,0)\n",
    "        temp1 = theta_f(theta1,[theta0,theta1,theta2],dataMat,labelMat,m,alpha,1)\n",
    "        temp2 = theta_f(theta2,[theta0,theta1,theta2],dataMat,labelMat,m,alpha,2)\n",
    "        cost_new = J_f([temp0,temp2,temp2],dataMat,labelMat,m)\n",
    "    return [theta0,theta1,theta2]\n",
    "    \n",
    "\n",
    "\n",
    "'''\n",
    "函数说明：根据解出的系数描绘数据集以及分割线\n",
    "'''\n",
    "def plotBestFit():\n",
    "    THETA = Gradient_Descent() #解出一组系数\n",
    "    dataMat, labelMat = loadDataSet()\n",
    "    dataArr = np.array(dataMat)\n",
    "    m = np.shape(dataMat)[0]\n",
    "    xcord1 = []; ycord1 = []\n",
    "    xcord0 = []; ycord0 = []\n",
    "    \n",
    "    for i in range(m):\n",
    "        if labelMat[i] == 1:\n",
    "            xcord1.append(dataArr[i,1]);ycord1.append(dataArr[i,2])\n",
    "        else:\n",
    "            xcord0.append(dataArr[i,1]);ycord0.append(dataArr[i,2])\n",
    "    \n",
    "    fig = plt.figure()\n",
    "    ax = fig.add_subplot(111)\n",
    "    ax.scatter(xcord1,ycord1,s = 20,c = 'red',marker = 's',alpha = .5)\n",
    "    ax.scatter(xcord0,ycord0,s = 20,c = 'green',alpha = .5)\n",
    "    \n",
    "    X = np.arange(-3.0,3.0,0.1)\n",
    "    Y = (-THETA[0]-THETA[1]*X)/THETA[2]\n",
    "    ax.plot(X,Y)\n",
    "    plt.title('最优分割线')\n",
    "    plt.xlabel('X1');plt.ylabel('X2')\n",
    "    plt.show()\n",
    "\n",
    "if __name__ == '__main__':\n",
    "    plotBestFit()"
   ]
  },
  {
   "cell_type": "code",
   "execution_count": null,
   "id": "9789944b",
   "metadata": {},
   "outputs": [],
   "source": []
  }
 ],
 "metadata": {
  "kernelspec": {
   "display_name": "Python 3",
   "language": "python",
   "name": "python3"
  },
  "language_info": {
   "codemirror_mode": {
    "name": "ipython",
    "version": 3
   },
   "file_extension": ".py",
   "mimetype": "text/x-python",
   "name": "python",
   "nbconvert_exporter": "python",
   "pygments_lexer": "ipython3",
   "version": "3.8.5"
  }
 },
 "nbformat": 4,
 "nbformat_minor": 5
}
