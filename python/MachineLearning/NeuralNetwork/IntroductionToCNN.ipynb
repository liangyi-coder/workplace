{
 "metadata": {
  "language_info": {
   "codemirror_mode": {
    "name": "ipython",
    "version": 3
   },
   "file_extension": ".py",
   "mimetype": "text/x-python",
   "name": "python",
   "nbconvert_exporter": "python",
   "pygments_lexer": "ipython3",
   "version": "3.8.8"
  },
  "orig_nbformat": 2,
  "kernelspec": {
   "name": "python388jvsc74a57bd0c5df1a699d945ee4e7deb6913ff5313d81b6f253899aecb14ce618a61bf0a0fc",
   "display_name": "Python 3.8.8 64-bit ('keras': conda)"
  },
  "metadata": {
   "interpreter": {
    "hash": "c5df1a699d945ee4e7deb6913ff5313d81b6f253899aecb14ce618a61bf0a0fc"
   }
  }
 },
 "nbformat": 4,
 "nbformat_minor": 2,
 "cells": [
  {
   "cell_type": "code",
   "execution_count": 7,
   "metadata": {},
   "outputs": [
    {
     "output_type": "stream",
     "name": "stdout",
     "text": [
      "Model: \"sequential_1\"\n_________________________________________________________________\nLayer (type)                 Output Shape              Param #   \n=================================================================\nconv2d_3 (Conv2D)            (None, 26, 26, 32)        320       \n_________________________________________________________________\nmax_pooling2d_2 (MaxPooling2 (None, 13, 13, 32)        0         \n_________________________________________________________________\nconv2d_4 (Conv2D)            (None, 11, 11, 64)        18496     \n_________________________________________________________________\nmax_pooling2d_3 (MaxPooling2 (None, 5, 5, 64)          0         \n_________________________________________________________________\nconv2d_5 (Conv2D)            (None, 3, 3, 64)          36928     \n_________________________________________________________________\nflatten_1 (Flatten)          (None, 576)               0         \n_________________________________________________________________\ndense_2 (Dense)              (None, 64)                36928     \n_________________________________________________________________\ndense_3 (Dense)              (None, 10)                650       \n=================================================================\nTotal params: 93,322\nTrainable params: 93,322\nNon-trainable params: 0\n_________________________________________________________________\n"
     ]
    }
   ],
   "source": [
    "'''\n",
    "Function Description:Recognize handwritten digits by CNN\n",
    "'''\n",
    "from keras import models\n",
    "from keras import layers\n",
    "#create simple CNN, the input layer is 28*28, the second is of 32 units, the third, forth, fifth layers is of 64 units, the output layer is of 10 units\n",
    "model = models.Sequential()\n",
    "model.add(layers.Conv2D(32, (3,3), activation='relu', input_shape = (28,28,1)))\n",
    "model.add(layers.MaxPooling2D(2,2))\n",
    "model.add(layers.Conv2D(64, (3,3), activation='relu'))\n",
    "model.add(layers.MaxPooling2D(2,2))\n",
    "model.add(layers.Conv2D(64, (3,3), activation='relu'))\n",
    "model.add(layers.Flatten())\n",
    "model.add(layers.Dense(64, activation='relu'))\n",
    "model.add(layers.Dense(10, activation='softmax'))\n",
    "model.summary()"
   ]
  },
  {
   "cell_type": "code",
   "execution_count": 3,
   "metadata": {},
   "outputs": [
    {
     "output_type": "stream",
     "name": "stdout",
     "text": [
      "Downloading data from https://storage.googleapis.com/tensorflow/tf-keras-datasets/mnist.npz\n",
      "11493376/11490434 [==============================] - 13s 1us/step\n"
     ]
    }
   ],
   "source": [
    "#load handwritten digits pictures \n",
    "from keras.datasets import mnist\n",
    "from keras.utils import to_categorical\n",
    "(train_data, train_labels), (test_data, test_labels) = mnist.load_data()"
   ]
  },
  {
   "cell_type": "code",
   "execution_count": 6,
   "metadata": {},
   "outputs": [],
   "source": [
    "#reshape data\n",
    "import numpy as np \n",
    "train_images = train_data.reshape((60000, 28, 28, 1))\n",
    "train_images = np.array(train_images,dtype='float')/255\n",
    "test_images = test_data.reshape((10000, 28, 28, 1))\n",
    "test_images = np.array(test_images, dtype='float')/255\n",
    "train_labels = to_categorical(train_labels)\n",
    "test_labels = to_categorical(test_labels)"
   ]
  },
  {
   "cell_type": "code",
   "execution_count": 9,
   "metadata": {},
   "outputs": [],
   "source": [
    "#complie the CNN\n",
    "model.compile(optimizer='rmsprop',\n",
    "              loss='categorical_crossentropy',\n",
    "              metrics=['accuracy'])"
   ]
  },
  {
   "cell_type": "code",
   "execution_count": 10,
   "metadata": {},
   "outputs": [
    {
     "output_type": "stream",
     "name": "stdout",
     "text": [
      "Epoch 1/5\n",
      "938/938 [==============================] - 55s 57ms/step - loss: 0.3837 - accuracy: 0.8830\n",
      "Epoch 2/5\n",
      "938/938 [==============================] - 57s 60ms/step - loss: 0.0467 - accuracy: 0.9856\n",
      "Epoch 3/5\n",
      "938/938 [==============================] - 56s 60ms/step - loss: 0.0303 - accuracy: 0.9906\n",
      "Epoch 4/5\n",
      "938/938 [==============================] - 71s 76ms/step - loss: 0.0218 - accuracy: 0.9934\n",
      "Epoch 5/5\n",
      "938/938 [==============================] - 72s 77ms/step - loss: 0.0176 - accuracy: 0.9946\n"
     ]
    },
    {
     "output_type": "execute_result",
     "data": {
      "text/plain": [
       "<tensorflow.python.keras.callbacks.History at 0x7fe708348670>"
      ]
     },
     "metadata": {},
     "execution_count": 10
    }
   ],
   "source": [
    "model.fit(train_images, train_labels, epochs=5, batch_size=64)"
   ]
  },
  {
   "cell_type": "code",
   "execution_count": 11,
   "metadata": {},
   "outputs": [
    {
     "output_type": "stream",
     "name": "stdout",
     "text": [
      "313/313 [==============================] - 2s 7ms/step - loss: 0.0265 - accuracy: 0.9931\n",
      "0.02651086449623108 0.9930999875068665\n"
     ]
    }
   ],
   "source": [
    "test_loss, test_accuracy = model.evaluate(test_images, test_labels)\n",
    "print(test_loss, test_accuracy)"
   ]
  }
 ]
}