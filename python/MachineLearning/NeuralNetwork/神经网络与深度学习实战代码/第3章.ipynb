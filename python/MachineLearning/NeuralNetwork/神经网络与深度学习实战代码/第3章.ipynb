{
 "cells": [
  {
   "cell_type": "code",
   "execution_count": 1,
   "metadata": {},
   "outputs": [
    {
     "name": "stdout",
     "output_type": "stream",
     "text": [
      "12\n",
      "0\n"
     ]
    }
   ],
   "source": [
    "import numpy as np\n",
    "#构建一个含有一个常数12的0维张量\n",
    "x = np.array(12)\n",
    "print(x)\n",
    "#ndim表示张量的维度\n",
    "print(x.ndim)"
   ]
  },
  {
   "cell_type": "code",
   "execution_count": 2,
   "metadata": {},
   "outputs": [
    {
     "name": "stdout",
     "output_type": "stream",
     "text": [
      "[11 12 13]\n",
      "1\n"
     ]
    }
   ],
   "source": [
    "x1 = np.array([11,12,13])\n",
    "print(x1)\n",
    "print(x1.ndim)"
   ]
  },
  {
   "cell_type": "code",
   "execution_count": 9,
   "metadata": {},
   "outputs": [
    {
     "name": "stdout",
     "output_type": "stream",
     "text": [
      "[[11 12 13]\n",
      " [14 15 16]]\n",
      "2\n"
     ]
    }
   ],
   "source": [
    "x2 = np.array([[11,12,13],[14,15,16]])\n",
    "print(x2)\n",
    "print(x2.ndim)"
   ]
  },
  {
   "cell_type": "code",
   "execution_count": 10,
   "metadata": {},
   "outputs": [
    {
     "name": "stdout",
     "output_type": "stream",
     "text": [
      "W2 - W1 = [[4 4]\n",
      " [4 4]]\n"
     ]
    }
   ],
   "source": [
    "W1 = np.array([[1,2],[3,4]])\n",
    "W2 = np.array([[5,6],[7,8]])\n",
    "print(\"W2 - W1 = {0}\".format(W2-W1))"
   ]
  },
  {
   "cell_type": "code",
   "execution_count": 11,
   "metadata": {},
   "outputs": [
    {
     "name": "stdout",
     "output_type": "stream",
     "text": [
      "[[0.7]\n",
      " [1. ]]\n"
     ]
    }
   ],
   "source": [
    "def matrix_multiply(x, y):\n",
    "    #确保第一个向量的列数等于第二个向量的行数\n",
    "    assert x.shape[1] == y.shape[0]\n",
    "    #一个m*d维的二维张量与一个d*n的二维张量做乘机后，得到m*n的二维张量\n",
    "    z = np.zeros((x.shape[0], y.shape[1]))\n",
    "    for i in range(x.shape[0]):\n",
    "        #循环第一个向量的每一行\n",
    "        for j in range(y.shape[1]):\n",
    "            #循环第二个向量的每一列\n",
    "            addSum = 0\n",
    "            for k in range(x.shape[1]):\n",
    "                addSum += x[i][k]*y[k][j]\n",
    "            z[i][j] = addSum\n",
    "    return z\n",
    "x = np.array([[0.1, 0.3], [0.2,0.4]])\n",
    "y = np.array([[1],[2]])\n",
    "z = matrix_multiply(x, y)\n",
    "print(z)\n",
    "    "
   ]
  },
  {
   "cell_type": "code",
   "execution_count": 14,
   "metadata": {},
   "outputs": [
    {
     "name": "stdout",
     "output_type": "stream",
     "text": [
      "[[0.7]\n",
      " [1. ]]\n"
     ]
    }
   ],
   "source": [
    "z = np.dot(x,y)\n",
    "print(z)"
   ]
  },
  {
   "cell_type": "code",
   "execution_count": 15,
   "metadata": {},
   "outputs": [
    {
     "name": "stdout",
     "output_type": "stream",
     "text": [
      "[[1 0]\n",
      " [0 1]]\n"
     ]
    }
   ],
   "source": [
    "def  naive_relu(x):\n",
    "    assert len(x.shape) == 2\n",
    "    x = x.copy() #确保操作不改变输入的x\n",
    "    for i in range(x.shape[0]):\n",
    "        for j in range(x.shape[1]):\n",
    "            x[i][j] = max(x[i][j], 0)\n",
    "    return x\n",
    "\n",
    "x = np.array([[1, -1], [-2, 1]])\n",
    "print(naive_relu(x))"
   ]
  },
  {
   "cell_type": "code",
   "execution_count": 16,
   "metadata": {},
   "outputs": [
    {
     "name": "stdout",
     "output_type": "stream",
     "text": [
      "3\n"
     ]
    }
   ],
   "source": [
    "x = np.array([\n",
    "    [\n",
    "      [1,2],\n",
    "      [3,4]\n",
    "    ],\n",
    "    [\n",
    "      [5,6],\n",
    "      [7,8]\n",
    "    ],\n",
    "    [\n",
    "      [9, 10],\n",
    "      [11, 12]\n",
    "    ]\n",
    "])\n",
    "print(x.ndim)"
   ]
  },
  {
   "cell_type": "code",
   "execution_count": 17,
   "metadata": {},
   "outputs": [
    {
     "name": "stderr",
     "output_type": "stream",
     "text": [
      "/anaconda3/lib/python3.6/site-packages/h5py/__init__.py:36: FutureWarning: Conversion of the second argument of issubdtype from `float` to `np.floating` is deprecated. In future, it will be treated as `np.float64 == np.dtype(float).type`.\n",
      "  from ._conv import register_converters as _register_converters\n",
      "Using TensorFlow backend.\n"
     ]
    },
    {
     "name": "stdout",
     "output_type": "stream",
     "text": [
      "(60000, 28, 28)\n"
     ]
    }
   ],
   "source": [
    "from keras.datasets import mnist\n",
    "(train_images, train_labels),(test_images, test_labels) = mnist.load_data()\n",
    "print(train_images.shape)"
   ]
  },
  {
   "cell_type": "code",
   "execution_count": 18,
   "metadata": {},
   "outputs": [
    {
     "name": "stdout",
     "output_type": "stream",
     "text": [
      "(90, 28, 28)\n"
     ]
    }
   ],
   "source": [
    "my_slice = train_images[10:100]\n",
    "print(my_slice.shape)"
   ]
  },
  {
   "cell_type": "code",
   "execution_count": null,
   "metadata": {},
   "outputs": [],
   "source": []
  }
 ],
 "metadata": {
  "kernelspec": {
   "display_name": "Python 3",
   "language": "python",
   "name": "python3"
  },
  "language_info": {
   "codemirror_mode": {
    "name": "ipython",
    "version": 3
   },
   "file_extension": ".py",
   "mimetype": "text/x-python",
   "name": "python",
   "nbconvert_exporter": "python",
   "pygments_lexer": "ipython3",
   "version": "3.7.2"
  }
 },
 "nbformat": 4,
 "nbformat_minor": 2
}
