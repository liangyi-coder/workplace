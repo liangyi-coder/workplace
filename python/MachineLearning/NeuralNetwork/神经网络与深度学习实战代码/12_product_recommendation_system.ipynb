{
  "nbformat": 4,
  "nbformat_minor": 0,
  "metadata": {
    "colab": {
      "name": "12-product-recommendation system.ipynb",
      "version": "0.3.2",
      "provenance": []
    },
    "kernelspec": {
      "name": "python3",
      "display_name": "Python 3"
    },
    "accelerator": "GPU"
  },
  "cells": [
    {
      "metadata": {
        "id": "Femae31nCmWy",
        "colab_type": "code",
        "colab": {
          "base_uri": "https://localhost:8080/",
          "height": 122
        },
        "outputId": "3a507c11-03c9-4fe7-b3ed-ab5aceb5eb2c"
      },
      "cell_type": "code",
      "source": [
        "from google.colab import drive\n",
        "drive.mount('/content/gdrive')"
      ],
      "execution_count": 3,
      "outputs": [
        {
          "output_type": "stream",
          "text": [
            "Go to this URL in a browser: https://accounts.google.com/o/oauth2/auth?client_id=947318989803-6bn6qk8qdgf4n4g3pfee6491hc0brc4i.apps.googleusercontent.com&redirect_uri=urn%3Aietf%3Awg%3Aoauth%3A2.0%3Aoob&scope=email%20https%3A%2F%2Fwww.googleapis.com%2Fauth%2Fdocs.test%20https%3A%2F%2Fwww.googleapis.com%2Fauth%2Fdrive%20https%3A%2F%2Fwww.googleapis.com%2Fauth%2Fdrive.photos.readonly%20https%3A%2F%2Fwww.googleapis.com%2Fauth%2Fpeopleapi.readonly&response_type=code\n",
            "\n",
            "Enter your authorization code:\n",
            "··········\n",
            "Mounted at /content/gdrive\n"
          ],
          "name": "stdout"
        }
      ]
    },
    {
      "metadata": {
        "id": "lZUcqzi9C0Iu",
        "colab_type": "code",
        "colab": {
          "base_uri": "https://localhost:8080/",
          "height": 255
        },
        "outputId": "fc3152f4-cf83-4ae0-ee0c-830459e0edb1"
      },
      "cell_type": "code",
      "source": [
        "import os\n",
        "import pandas as pd\n",
        "\n",
        "file_path = '/content/gdrive/My Drive/retailrocket-recommender-system-dataset'\n",
        "os.listdir(file_path)\n",
        "\n",
        "#读入event.csv文件\n",
        "events = pd.read_csv(os.path.join(file_path, 'events.csv'))\n",
        "print('Event data\\n', events.head())\n",
        "\n",
        "print('Unique counts: ', events.nunique())\n",
        "\n",
        "print('Kind of events: ', events.event.unique())"
      ],
      "execution_count": 5,
      "outputs": [
        {
          "output_type": "stream",
          "text": [
            "Event data\n",
            "        timestamp  visitorid event  itemid  transactionid\n",
            "0  1433221332117     257597  view  355908            NaN\n",
            "1  1433224214164     992329  view  248676            NaN\n",
            "2  1433221999827     111016  view  318965            NaN\n",
            "3  1433221955914     483717  view  253185            NaN\n",
            "4  1433221337106     951259  view  367447            NaN\n",
            "Unique counts:  timestamp        2750455\n",
            "visitorid        1407580\n",
            "event                  3\n",
            "itemid            235061\n",
            "transactionid      17672\n",
            "dtype: int64\n",
            "Kind of events:  ['view' 'addtocart' 'transaction']\n"
          ],
          "name": "stdout"
        }
      ]
    },
    {
      "metadata": {
        "id": "IQ52ukyACWiO",
        "colab_type": "code",
        "colab": {
          "base_uri": "https://localhost:8080/",
          "height": 119
        },
        "outputId": "99e81f41-3bbb-4490-d176-17ed942c14b8"
      },
      "cell_type": "code",
      "source": [
        "#将三种不同事件用数值表示\n",
        "events.event.replace(to_replace = dict(view = 1, addtocart = 2,\n",
        "                                    transaction = 3), inplace = True)\n",
        "\n",
        "print(events.head())"
      ],
      "execution_count": 6,
      "outputs": [
        {
          "output_type": "stream",
          "text": [
            "       timestamp  visitorid  event  itemid  transactionid\n",
            "0  1433221332117     257597      1  355908            NaN\n",
            "1  1433224214164     992329      1  248676            NaN\n",
            "2  1433221999827     111016      1  318965            NaN\n",
            "3  1433221955914     483717      1  253185            NaN\n",
            "4  1433221337106     951259      1  367447            NaN\n"
          ],
          "name": "stdout"
        }
      ]
    },
    {
      "metadata": {
        "id": "8ElK9dRhDmmD",
        "colab_type": "code",
        "colab": {}
      },
      "cell_type": "code",
      "source": [
        "\n",
        "#删除分析不需要的数据项\n",
        "              \n",
        "events.drop(['transactionid'], axis = 1, inplace = True)\n",
        "events.drop(['timestamp'], axis = 1, inplace = True)"
      ],
      "execution_count": 0,
      "outputs": []
    },
    {
      "metadata": {
        "id": "d4XAL5WwFubU",
        "colab_type": "code",
        "colab": {
          "base_uri": "https://localhost:8080/",
          "height": 34
        },
        "outputId": "09090c76-6c8b-4749-f233-3a8b110458e8"
      },
      "cell_type": "code",
      "source": [
        "#将数据划分为训练集，校验集合测试集\n",
        "split_1 = int(0.8 * len(events))\n",
        "split_2 = int(0.9 * len(events))\n",
        "train = events[: split_1]\n",
        "valid = events[split_1 : split_2]\n",
        "test = events[split_2: ]\n",
        "\n",
        "print(train.event.shape)"
      ],
      "execution_count": 8,
      "outputs": [
        {
          "output_type": "stream",
          "text": [
            "(2204880,)\n"
          ],
          "name": "stdout"
        }
      ]
    },
    {
      "metadata": {
        "id": "skjeHbxtG93t",
        "colab_type": "code",
        "colab": {
          "base_uri": "https://localhost:8080/",
          "height": 615
        },
        "outputId": "98101a87-330f-47ed-b7a5-9f99ef4b060f"
      },
      "cell_type": "code",
      "source": [
        "#客户数量\n",
        "n_visitors = events.visitorid.nunique()\n",
        "#商品数量\n",
        "n_items = events.itemid.nunique()\n",
        "\n",
        "n_latent_factors = 5\n",
        "\n",
        "import keras\n",
        "from keras.layers import Input, Embedding, Flatten, Dense\n",
        "from keras.models import Model\n",
        "\n",
        "item_input = Input(shape = [1], name = 'Items')\n",
        "\n",
        "'''\n",
        "我们用长度为5的向量来对编码每个客户以及每件商品，这与我们前面分析好坏影评时，\n",
        "用向量来编码每个单词是同样道理\n",
        "'''\n",
        "item_embed = Embedding(n_items + 1, n_latent_factors, name = 'ItemsEmbedding')(item_input)\n",
        "item_vec = Flatten(name = 'ItemFlatten')(item_embed)\n",
        "\n",
        "visitor_input = Input(shape = [1], name = 'visitor')\n",
        "visitor_embed = Embedding(n_visitors + 1, \n",
        "                         n_latent_factors,\n",
        "                         name = 'visitorsEmbedding')(visitor_input)\n",
        "visitor_vec = Flatten(name = 'VisitorFlatten')(visitor_embed)\n",
        "\n",
        "concat = keras.layers.concatenate([item_vec, visitor_vec], name = 'Concat')\n",
        "fc_1 = Dense(80, name = 'FC-1')(concat)\n",
        "fc_2 = Dense(40, name = 'FC-2')(fc_1)\n",
        "fc_3 = Dense(20, name = 'FC-3', activation = 'relu')(fc_2)\n",
        "\n",
        "output = Dense(1, activation = 'relu', name = 'Output')(fc_3)\n",
        "\n",
        "optimizer = keras.optimizers.Adam(lr = 0.001)\n",
        "model = keras.Model([item_input, visitor_input], output)\n",
        "model.compile(optimizer = optimizer, loss = 'mse')\n",
        "\n",
        "model.summary()"
      ],
      "execution_count": 7,
      "outputs": [
        {
          "output_type": "stream",
          "text": [
            "Using TensorFlow backend.\n"
          ],
          "name": "stderr"
        },
        {
          "output_type": "stream",
          "text": [
            "WARNING:tensorflow:From /usr/local/lib/python3.6/dist-packages/tensorflow/python/framework/op_def_library.py:263: colocate_with (from tensorflow.python.framework.ops) is deprecated and will be removed in a future version.\n",
            "Instructions for updating:\n",
            "Colocations handled automatically by placer.\n",
            "__________________________________________________________________________________________________\n",
            "Layer (type)                    Output Shape         Param #     Connected to                     \n",
            "==================================================================================================\n",
            "Items (InputLayer)              (None, 1)            0                                            \n",
            "__________________________________________________________________________________________________\n",
            "visitor (InputLayer)            (None, 1)            0                                            \n",
            "__________________________________________________________________________________________________\n",
            "ItemsEmbedding (Embedding)      (None, 1, 5)         1175310     Items[0][0]                      \n",
            "__________________________________________________________________________________________________\n",
            "visitorsEmbedding (Embedding)   (None, 1, 5)         7037905     visitor[0][0]                    \n",
            "__________________________________________________________________________________________________\n",
            "ItemFlatten (Flatten)           (None, 5)            0           ItemsEmbedding[0][0]             \n",
            "__________________________________________________________________________________________________\n",
            "VisitorFlatten (Flatten)        (None, 5)            0           visitorsEmbedding[0][0]          \n",
            "__________________________________________________________________________________________________\n",
            "Concat (Concatenate)            (None, 10)           0           ItemFlatten[0][0]                \n",
            "                                                                 VisitorFlatten[0][0]             \n",
            "__________________________________________________________________________________________________\n",
            "FC-1 (Dense)                    (None, 80)           880         Concat[0][0]                     \n",
            "__________________________________________________________________________________________________\n",
            "FC-2 (Dense)                    (None, 40)           3240        FC-1[0][0]                       \n",
            "__________________________________________________________________________________________________\n",
            "FC-3 (Dense)                    (None, 20)           820         FC-2[0][0]                       \n",
            "__________________________________________________________________________________________________\n",
            "Output (Dense)                  (None, 1)            21          FC-3[0][0]                       \n",
            "==================================================================================================\n",
            "Total params: 8,218,176\n",
            "Trainable params: 8,218,176\n",
            "Non-trainable params: 0\n",
            "__________________________________________________________________________________________________\n"
          ],
          "name": "stdout"
        }
      ]
    },
    {
      "metadata": {
        "id": "gRJxoIyxTIhC",
        "colab_type": "code",
        "colab": {
          "base_uri": "https://localhost:8080/",
          "height": 630
        },
        "outputId": "ca4f50db-8fad-4e81-8305-1c0b6f325261"
      },
      "cell_type": "code",
      "source": [
        "from keras.models import load_model\n",
        "model = load_model('/content/gdrive/My Drive/product_recommentation/recommend_model.h5')\n",
        "\n",
        "model.fit([train.visitorid, train.itemid], train.event, epochs = 10)\n",
        "score = model.evaluate([test.visitorid, test.itemid], test.event)\n",
        "print('mean square error: ', score)"
      ],
      "execution_count": 10,
      "outputs": [
        {
          "output_type": "stream",
          "text": [
            "WARNING:tensorflow:From /usr/local/lib/python3.6/dist-packages/tensorflow/python/ops/math_ops.py:3066: to_int32 (from tensorflow.python.ops.math_ops) is deprecated and will be removed in a future version.\n",
            "Instructions for updating:\n",
            "Use tf.cast instead.\n",
            "Epoch 1/10\n",
            "2204880/2204880 [==============================] - 984s 446us/step - loss: 0.0598\n",
            "Epoch 2/10\n",
            "2204880/2204880 [==============================] - 1014s 460us/step - loss: 0.3221\n",
            "Epoch 3/10\n",
            "2204880/2204880 [==============================] - 1017s 461us/step - loss: 0.0927\n",
            "Epoch 4/10\n",
            "2204880/2204880 [==============================] - 1016s 461us/step - loss: 0.0655\n",
            "Epoch 5/10\n",
            "2204880/2204880 [==============================] - 1015s 461us/step - loss: 13.8046\n",
            "Epoch 6/10\n",
            "2204880/2204880 [==============================] - 1018s 462us/step - loss: 0.0955\n",
            "Epoch 7/10\n",
            "2204880/2204880 [==============================] - 1021s 463us/step - loss: 0.0580\n",
            "Epoch 8/10\n",
            "2204880/2204880 [==============================] - 980s 444us/step - loss: 0.0566\n",
            "Epoch 9/10\n",
            "2204880/2204880 [==============================] - 933s 423us/step - loss: 0.0566\n",
            "Epoch 10/10\n",
            "2204880/2204880 [==============================] - 965s 438us/step - loss: 0.0566\n",
            "275611/275611 [==============================] - 15s 53us/step\n"
          ],
          "name": "stdout"
        },
        {
          "output_type": "error",
          "ename": "NameError",
          "evalue": "ignored",
          "traceback": [
            "\u001b[0;31m---------------------------------------------------------------------------\u001b[0m",
            "\u001b[0;31mNameError\u001b[0m                                 Traceback (most recent call last)",
            "\u001b[0;32m<ipython-input-10-55d0c9070be2>\u001b[0m in \u001b[0;36m<module>\u001b[0;34m()\u001b[0m\n\u001b[1;32m      4\u001b[0m \u001b[0mmodel\u001b[0m\u001b[0;34m.\u001b[0m\u001b[0mfit\u001b[0m\u001b[0;34m(\u001b[0m\u001b[0;34m[\u001b[0m\u001b[0mtrain\u001b[0m\u001b[0;34m.\u001b[0m\u001b[0mvisitorid\u001b[0m\u001b[0;34m,\u001b[0m \u001b[0mtrain\u001b[0m\u001b[0;34m.\u001b[0m\u001b[0mitemid\u001b[0m\u001b[0;34m]\u001b[0m\u001b[0;34m,\u001b[0m \u001b[0mtrain\u001b[0m\u001b[0;34m.\u001b[0m\u001b[0mevent\u001b[0m\u001b[0;34m,\u001b[0m \u001b[0mepochs\u001b[0m \u001b[0;34m=\u001b[0m \u001b[0;36m10\u001b[0m\u001b[0;34m)\u001b[0m\u001b[0;34m\u001b[0m\u001b[0;34m\u001b[0m\u001b[0m\n\u001b[1;32m      5\u001b[0m \u001b[0msocre\u001b[0m \u001b[0;34m=\u001b[0m \u001b[0mmodel\u001b[0m\u001b[0;34m.\u001b[0m\u001b[0mevaluate\u001b[0m\u001b[0;34m(\u001b[0m\u001b[0;34m[\u001b[0m\u001b[0mtest\u001b[0m\u001b[0;34m.\u001b[0m\u001b[0mvisitorid\u001b[0m\u001b[0;34m,\u001b[0m \u001b[0mtest\u001b[0m\u001b[0;34m.\u001b[0m\u001b[0mitemid\u001b[0m\u001b[0;34m]\u001b[0m\u001b[0;34m,\u001b[0m \u001b[0mtest\u001b[0m\u001b[0;34m.\u001b[0m\u001b[0mevent\u001b[0m\u001b[0;34m)\u001b[0m\u001b[0;34m\u001b[0m\u001b[0;34m\u001b[0m\u001b[0m\n\u001b[0;32m----> 6\u001b[0;31m \u001b[0mprint\u001b[0m\u001b[0;34m(\u001b[0m\u001b[0;34m'mean square error: '\u001b[0m\u001b[0;34m,\u001b[0m \u001b[0mscore\u001b[0m\u001b[0;34m)\u001b[0m\u001b[0;34m\u001b[0m\u001b[0;34m\u001b[0m\u001b[0m\n\u001b[0m",
            "\u001b[0;31mNameError\u001b[0m: name 'score' is not defined"
          ]
        }
      ]
    },
    {
      "metadata": {
        "id": "Y5GOpVaBb5BK",
        "colab_type": "code",
        "colab": {}
      },
      "cell_type": "code",
      "source": [
        "!mkdir '/content/gdrive/My Drive/product_recommentation'"
      ],
      "execution_count": 0,
      "outputs": []
    },
    {
      "metadata": {
        "id": "csyEZnLHb05s",
        "colab_type": "code",
        "colab": {}
      },
      "cell_type": "code",
      "source": [
        "save_path = '/content/gdrive/My Drive/product_recommentation/recommend_model.h5'\n",
        "model.save(save_path)"
      ],
      "execution_count": 0,
      "outputs": []
    },
    {
      "metadata": {
        "id": "mAeo1mvi_l9D",
        "colab_type": "code",
        "colab": {
          "base_uri": "https://localhost:8080/",
          "height": 51
        },
        "outputId": "4be6bc7a-74a3-4085-8162-5c6a36baf360"
      },
      "cell_type": "code",
      "source": [
        "from keras.models import load_model\n",
        "model = load_model('/content/gdrive/My Drive/product_recommentation/recommend_model.h5')\n",
        "\n",
        "score = model.evaluate([test.visitorid, test.itemid], test.event)\n",
        "print('mean square error: ', score)"
      ],
      "execution_count": 9,
      "outputs": [
        {
          "output_type": "stream",
          "text": [
            "275611/275611 [==============================] - 18s 66us/step\n",
            "mean square error:  0.0818186502982947\n"
          ],
          "name": "stdout"
        }
      ]
    }
  ]
}