{
 "cells": [
  {
   "cell_type": "code",
   "execution_count": 1,
   "metadata": {},
   "outputs": [],
   "source": [
    "import pandas as pd\n",
    "import numpy as np"
   ]
  },
  {
   "cell_type": "code",
   "execution_count": 2,
   "metadata": {},
   "outputs": [],
   "source": [
    "#读取train_data中的数据，以第一行为表头，记作train_data\n",
    "train_data = pd.read_csv('train_data.csv')\n",
    "#读取test_data中的数据，记作test_data\n",
    "test_data = pd.read_csv('test_data.csv')"
   ]
  },
  {
   "cell_type": "code",
   "execution_count": 3,
   "metadata": {},
   "outputs": [],
   "source": [
    "#将train_data和test_data转化为dict类型\n",
    "train = np.array(train_data)\n",
    "test = np.array(test_data)"
   ]
  },
  {
   "cell_type": "code",
   "execution_count": 4,
   "metadata": {},
   "outputs": [
    {
     "name": "stdout",
     "output_type": "stream",
     "text": [
      "[[1011462846 'M' 68 ... 0 430.54 14.4]\n",
      " [1007509206 'F' 67 ... 0 859.37 28.6]\n",
      " [1005991374 'M' 69 ... 0 2298.0 76.6]\n",
      " ...\n",
      " [1011590811 'F' 49 ... 0 474.51 15.8]\n",
      " [1008736315 'M' 51 ... 0 722.32 24.1]\n",
      " [1005020207 'M' 65 ... 0 2567.45 85.6]]\n"
     ]
    }
   ],
   "source": []
  },
  {
   "cell_type": "code",
   "execution_count": null,
   "metadata": {},
   "outputs": [],
   "source": []
  }
 ],
 "metadata": {
  "kernelspec": {
   "display_name": "Python 3",
   "language": "python",
   "name": "python3"
  },
  "language_info": {
   "codemirror_mode": {
    "name": "ipython",
    "version": 3
   },
   "file_extension": ".py",
   "mimetype": "text/x-python",
   "name": "python",
   "nbconvert_exporter": "python",
   "pygments_lexer": "ipython3",
   "version": "3.8.3"
  }
 },
 "nbformat": 4,
 "nbformat_minor": 4
}
