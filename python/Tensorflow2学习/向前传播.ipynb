{
 "metadata": {
  "language_info": {
   "codemirror_mode": {
    "name": "ipython",
    "version": 3
   },
   "file_extension": ".py",
   "mimetype": "text/x-python",
   "name": "python",
   "nbconvert_exporter": "python",
   "pygments_lexer": "ipython3",
   "version": "3.8.8"
  },
  "orig_nbformat": 2,
  "kernelspec": {
   "name": "python388jvsc74a57bd0a9af313cb749ba1c25918eb59fb99c2832356967b6742b16b5f7af8fc6e9f458",
   "display_name": "Python 3.8.8 64-bit ('base': conda)"
  }
 },
 "nbformat": 4,
 "nbformat_minor": 2,
 "cells": [
  {
   "cell_type": "code",
   "execution_count": 1,
   "metadata": {},
   "outputs": [],
   "source": [
    "import tensorflow as tf \n",
    "from tensorflow import keras\n",
    "from tensorflow.keras import datasets"
   ]
  },
  {
   "cell_type": "code",
   "execution_count": 10,
   "metadata": {},
   "outputs": [],
   "source": [
    "#X:[60K, 28, 28]\n",
    "#y:[60K]\n",
    "(X, y), _ = datasets.mnist.load_data()\n",
    "X = tf.convert_to_tensor(X, dtype=tf.float32) / 255.0\n",
    "y = tf.convert_to_tensor(y, dtype=tf.int32) "
   ]
  },
  {
   "cell_type": "code",
   "execution_count": 11,
   "metadata": {},
   "outputs": [
    {
     "output_type": "stream",
     "name": "stdout",
     "text": [
      "(60000, 28, 28) (60000,) <dtype: 'float32'> <dtype: 'int32'>\n"
     ]
    }
   ],
   "source": [
    "print(X.shape, y.shape, X.dtype, y.dtype)"
   ]
  },
  {
   "cell_type": "code",
   "execution_count": 12,
   "metadata": {},
   "outputs": [
    {
     "output_type": "stream",
     "name": "stdout",
     "text": [
      "tf.Tensor(0.0, shape=(), dtype=float32) tf.Tensor(1.0, shape=(), dtype=float32)\ntf.Tensor(0, shape=(), dtype=int32) tf.Tensor(9, shape=(), dtype=int32)\n"
     ]
    }
   ],
   "source": [
    "#查看数值范围\n",
    "import os \n",
    "os.environ['TF_CPP_MIN_LOG_LEVEL'] = '2' #去除无关信息\n",
    "print(tf.reduce_min(X), tf.reduce_max(X))\n",
    "print(tf.reduce_min(y), tf.reduce_max(y))"
   ]
  },
  {
   "cell_type": "code",
   "execution_count": 13,
   "metadata": {},
   "outputs": [],
   "source": [
    "#创建Dataset对象\n",
    "train_set = tf.data.Dataset.from_tensor_slices((X,y)).batch(batch_size=128)"
   ]
  },
  {
   "cell_type": "code",
   "execution_count": 14,
   "metadata": {},
   "outputs": [],
   "source": [
    "#创建一个迭代器-iter，并使用next()获取下一个元素\n",
    "train_iter = iter(train_set)\n",
    "sample = next(train_iter)"
   ]
  },
  {
   "cell_type": "code",
   "execution_count": 18,
   "metadata": {},
   "outputs": [
    {
     "output_type": "stream",
     "name": "stdout",
     "text": [
      "batch: (128, 28, 28) (128,)\n"
     ]
    }
   ],
   "source": [
    "print('batch:', sample[0].shape, sample[1].shape)#sample[0]代表image， sample[1]代表label"
   ]
  },
  {
   "cell_type": "code",
   "execution_count": 19,
   "metadata": {},
   "outputs": [],
   "source": [
    "w1 = tf.random.truncated_normal([784, 256]) #随即初始化\n",
    "b1 = tf.zeros([256])\n",
    "w2 = tf.random.truncated_normal([256, 128])\n",
    "b2 = tf.zeros([128])\n",
    "w3 = tf.random.truncated_normal([128, 10])\n",
    "b2 = tf.zeros([10])"
   ]
  },
  {
   "cell_type": "code",
   "execution_count": null,
   "metadata": {},
   "outputs": [],
   "source": [
    "for (X, y) in train_set:\n",
    "    # X:[128, 28, 28]\n",
    "    # y:[128]\n",
    "    # [b, 28, 28] -> [b, 28*28]\n",
    "    X = tf.reshape(X, [-1, 28*28]) #把第一个维度设置为-1可以让他自动计算\n",
    "    "
   ]
  }
 ]
}